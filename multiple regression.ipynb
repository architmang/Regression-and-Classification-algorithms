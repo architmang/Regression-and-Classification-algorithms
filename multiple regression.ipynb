{
 "metadata": {
  "language_info": {
   "codemirror_mode": {
    "name": "ipython",
    "version": 3
   },
   "file_extension": ".py",
   "mimetype": "text/x-python",
   "name": "python",
   "nbconvert_exporter": "python",
   "pygments_lexer": "ipython3",
   "version": "3.7.9"
  },
  "orig_nbformat": 2,
  "kernelspec": {
   "name": "python379jvsc74a57bd0d8dcc7ee3d2601efbd472b13053c0b661b3b32c014643b73a4be5cc0760d49f8",
   "display_name": "Python 3.7.9 64-bit"
  },
  "metadata": {
   "interpreter": {
    "hash": "d8dcc7ee3d2601efbd472b13053c0b661b3b32c014643b73a4be5cc0760d49f8"
   }
  }
 },
 "nbformat": 4,
 "nbformat_minor": 2,
 "cells": [
  {
   "cell_type": "code",
   "execution_count": 1,
   "metadata": {},
   "outputs": [
    {
     "output_type": "stream",
     "name": "stderr",
     "text": [
      "C:\\Users\\archi\\AppData\\Local\\Programs\\Python\\Python37\\lib\\importlib\\_bootstrap.py:219: RuntimeWarning: numpy.ufunc size changed, may indicate binary incompatibility. Expected 192 from C header, got 216 from PyObject\n",
      "  return f(*args, **kwds)\n",
      "--2021-04-02 22:10:53--  https://cf-courses-data.s3.us.cloud-object-storage.appdomain.cloud/IBMDeveloperSkillsNetwork-ML0101EN-SkillsNetwork/labs/Module%202/data/FuelConsumptionCo2.csv\n",
      "Resolving cf-courses-data.s3.us.cloud-object-storage.appdomain.cloud (cf-courses-data.s3.us.cloud-object-storage.appdomain.cloud)... 169.45.118.108\n",
      "Connecting to cf-courses-data.s3.us.cloud-object-storage.appdomain.cloud (cf-courses-data.s3.us.cloud-object-storage.appdomain.cloud)|169.45.118.108|:443... connected.\n",
      "HTTP request sent, awaiting response... 200 OK\n",
      "Length: 72629 (71K) [text/csv]\n",
      "Saving to: 'FuelConsumption.csv'\n",
      "\n",
      "     0K .......... .......... .......... .......... .......... 70%  196K 0s\n",
      "    50K .......... ..........                                 100% 2.77M=0.3s\n",
      "\n",
      "2021-04-02 22:10:55 (270 KB/s) - 'FuelConsumption.csv' saved [72629/72629]\n",
      "\n",
      "C:\\Users\\archi\\AppData\\Local\\Programs\\Python\\Python37\\lib\\importlib\\_bootstrap.py:219: RuntimeWarning: numpy.ufunc size changed, may indicate binary incompatibility. Expected 192 from C header, got 216 from PyObject\n",
      "  return f(*args, **kwds)\n"
     ]
    }
   ],
   "source": [
    "import pandas as pd\n",
    "import matplotlib.pyplot as plt\n",
    "import numpy as np\n",
    "import pylab as pl\n",
    "!wget -O FuelConsumption.csv https://cf-courses-data.s3.us.cloud-object-storage.appdomain.cloud/IBMDeveloperSkillsNetwork-ML0101EN-SkillsNetwork/labs/Module%202/data/FuelConsumptionCo2.csv\n",
    "df=pd.read_csv(\"FuelConsumption.csv\")"
   ]
  },
  {
   "cell_type": "code",
   "execution_count": 3,
   "metadata": {},
   "outputs": [],
   "source": [
    "train=df[0:500]\n",
    "test=df[500:]"
   ]
  },
  {
   "cell_type": "code",
   "execution_count": 21,
   "metadata": {},
   "outputs": [
    {
     "output_type": "stream",
     "name": "stdout",
     "text": [
      "[[12.89990568 10.05679576  7.15552121]]\n[70.65750311]\n"
     ]
    }
   ],
   "source": [
    "train_x=np.asanyarray(train[[\"ENGINESIZE\",\"CYLINDERS\",\"FUELCONSUMPTION_COMB\"]])\n",
    "train_y=np.asanyarray(train[[\"CO2EMISSIONS\"]])\n",
    "test_x=np.asanyarray(test[[\"ENGINESIZE\",\"CYLINDERS\",\"FUELCONSUMPTION_COMB\"]])\n",
    "test_y=np.asanyarray(test[[\"CO2EMISSIONS\"]])\n",
    "from sklearn import linear_model\n",
    "regr=linear_model.LinearRegression()\n",
    "regr.fit(train_x,train_y)\n",
    "print(regr.coef_) # uses ols approach to find the coefficients\n",
    "print(regr.intercept_)"
   ]
  },
  {
   "cell_type": "code",
   "execution_count": 18,
   "metadata": {},
   "outputs": [
    {
     "output_type": "stream",
     "name": "stdout",
     "text": [
      " sum of residual errors is 264197.33\nexplained variance is 0.86\n"
     ]
    }
   ],
   "source": [
    "# now we do testing\n",
    "test_y_=regr.predict(test_x)\n",
    "print(\" sum of residual errors is %0.2f\" %np.sum((test_y-test_y_)**2))\n",
    "print(\"explained variance is %0.2f\" %regr.score(test_x,test_y))"
   ]
  },
  {
   "cell_type": "code",
   "execution_count": null,
   "metadata": {},
   "outputs": [],
   "source": []
  }
 ]
}